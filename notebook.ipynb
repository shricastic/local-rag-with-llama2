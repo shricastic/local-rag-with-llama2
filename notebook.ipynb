{
 "cells": [
  {
   "cell_type": "code",
   "execution_count": 5,
   "metadata": {},
   "outputs": [
    {
     "data": {
      "text/plain": [
       "False"
      ]
     },
     "execution_count": 5,
     "metadata": {},
     "output_type": "execute_result"
    }
   ],
   "source": [
    "import os \n",
    "from dotenv import load_dotenv\n",
    "load_dotenv()"
   ]
  },
  {
   "cell_type": "code",
   "execution_count": null,
   "metadata": {},
   "outputs": [],
   "source": [
    "## Setting up llama2 as model\n",
    "MODEL = 'llama2'\n"
   ]
  },
  {
   "cell_type": "code",
   "execution_count": 13,
   "metadata": {},
   "outputs": [
    {
     "data": {
      "text/plain": [
       "\"\\nSure, here's one:\\n\\nWhy don't scientists trust atoms?\\nBecause they make up everything!\\n\\nI hope that made you smile! Do you want to hear another one?\""
      ]
     },
     "execution_count": 13,
     "metadata": {},
     "output_type": "execute_result"
    }
   ],
   "source": [
    "## Make sure you have Ollama and llama2 installed locally\n",
    "from langchain_community.llms import Ollama\n",
    "model = Ollama(model=MODEL)\n",
    "\n",
    "## Invoke and test if its working\n",
    "model.invoke(\"hey tell me a joke\")\n"
   ]
  },
  {
   "cell_type": "code",
   "execution_count": null,
   "metadata": {},
   "outputs": [
    {
     "data": {
      "text/plain": [
       "[Document(metadata={'source': 'mycv.pdf', 'page': 0}, page_content='Shrikrushna Gundre\\n/gl⌢beshricastic.in ♂¶obile7378484905 /envel⌢peshricse07@gmail.com /linkedinshricastic /githubshricastic /codeleetcode\\nEducation\\nKolhapur Institutet of Technology 2021 - 2024\\nB.tech in Computer Science and Engineering (GPA:7.9) Kolhapur, Maharashtra\\nTechnical Skills\\nLanguages: C++, TypeScript, Python, JavaScript, Rust, Java, Solidity, Html, Css\\nTechnologies/Frameworks: NextJs, React, Express, NodeJs, FastApi, Recoil, Tailwind CSS, Prisma(ORM)\\nDatabases: MongoDB, PostgreSQL, MySQL, Redis\\nOther Skills: AWS, GCP, Docker, Git, Linux, Bash Shell, Blockchain, Postman, Serverless\\nExperience\\nTecell Oct 2024 – Present\\nSoftware Engineer - Intern Bengaluru, Karnataka\\n• Focusing on Node and cloud application integration to develop software that connects and manages EV charging\\nstations.\\n• Contributing to projects aimed at enhancing system performance and scalability within the EV infrastructure.\\nSuperAdept It Consultants Mar 2024 – June 2024\\nSoftware Engineer - Intern Bengaluru, Karnataka\\n• Developed and deployed a personalized applications using React, AWS Amplify, Vercel and the MERN stack.\\n• Collaborated on microservices architecture and optimized code for scalability and performance.\\nProjects\\nNext Portfolio| TypeScript, NextJS, React, Tailwind, Framer Motions, Aceternity Sept 2024\\n• Developed a responsive portfolio website using Next.js and TypeScript, showcasing projects and skills with a focus on\\nmodern web standards.\\n• Implemented animations using Aceternity, Framer Motion for enhanced user interaction.\\nPayTm - Community Payments| JavaScript, React, Tailwind, Express, MongoDB July 2024\\n• Developed a community payments platform using JavaScript and React, enhancing user engagement and transaction\\nefficiency.\\n• Implemented backend services with Express and MongoDB, adhering to atomicity standards for secure and reliable\\ntransaction processing.\\n• Created a responsive UI with Tailwind CSS, ensuring a seamless experience across devices.\\nBlockCertify | React, Truffle, Express, Ganache, MongoDB June 2024\\n• Pioneered a blockchain application for generating, storing, and verifying certificates.\\n• Developed a fully functional full stack application to integrate with blockchain to store and validate the certificate\\n• Deployed and incorporated in college cultural club events for robust paticipation certificate generation and distribution.\\nJobMatcher AI| Python, LLM Gemini, PyPDF, Streamlit July 2024\\n• Developed an AI-powered ATS tool using Streamlit and Google Generative AI LLM to evaluate resumes against job\\ndescriptions.\\n• Extracted text from PDF resumes using PyPDF2, enabling seamless integration of uploaded documents for analysis.\\n• Implemented natural language processing to assess resume-job description matching and Gen ai to identify missing\\nkeywords, enhancing candidate shortlisting chances.\\nACHIEVEMENTS\\n• Solved 500+ Data Structures & Algorithm problemson coding platforms like Leetcode and Codeforces. etc.\\n• Honored as one of only 60distinguished scholars in the district, receiving a fully funded scholarship for high\\nschool education.\\n• Championship winnerin District level Inter College Chess Competition.')]"
      ]
     },
     "execution_count": 15,
     "metadata": {},
     "output_type": "execute_result"
    }
   ],
   "source": [
    "## Loading my pdf into loader and splitting it into pages\n",
    "from langchain_community.document_loaders import PyPDFLoader\n",
    "\n",
    "loader = PyPDFLoader(\"mycv.pdf\")\n",
    "pages = loader.load_and_split()\n",
    "pages\n"
   ]
  },
  {
   "cell_type": "code",
   "execution_count": null,
   "metadata": {},
   "outputs": [
    {
     "name": "stdout",
     "output_type": "stream",
     "text": [
      " \n",
      "Answer the questions based on the context below. If you cant \n",
      "answer the question, reply \"I dont know\"\n",
      "\n",
      "Context: Some context\n",
      "\n",
      "Question: here is the question\n",
      "\n"
     ]
    }
   ],
   "source": [
    "## Create prompt template for the llm\n",
    "from langchain.prompts import PromptTemplate\n",
    "\n",
    "template= \"\"\" \n",
    "Answer the questions based on the context below. If you cant \n",
    "answer the question, reply \"I dont know\"\n",
    "\n",
    "Context: {context}\n",
    "\n",
    "Question: {question}\n",
    "\"\"\"\n",
    "\n",
    "prompt = PromptTemplate.from_template(template)\n",
    "print(prompt.format(context=\"Some context\", question=\"here is the question\"))"
   ]
  },
  {
   "cell_type": "code",
   "execution_count": null,
   "metadata": {},
   "outputs": [
    {
     "data": {
      "text/plain": [
       "' Sure! As Shrikrushna, my answer to your question would be: \"Your name is... Krishna!\"'"
      ]
     },
     "execution_count": 19,
     "metadata": {},
     "output_type": "execute_result"
    }
   ],
   "source": [
    "#create chain and test by invoking it\n",
    "chain = prompt | model\n",
    "\n",
    "chain.invoke(\n",
    "    {\n",
    "        \"context\": \"I am shrikrushna\",\n",
    "        \"question\": \"whats my name?\"\n",
    "    }\n",
    ")"
   ]
  },
  {
   "cell_type": "code",
   "execution_count": 40,
   "metadata": {},
   "outputs": [],
   "source": [
    "## Create embeddings using langchain and Ollama\n",
    "from langchain_community.vectorstores import DocArrayInMemorySearch\n",
    "from langchain_community.embeddings import OllamaEmbeddings\n",
    "\n",
    "embeddings = OllamaEmbeddings()\n",
    "\n",
    "vectorstore = DocArrayInMemorySearch.from_documents(pages, embedding=embeddings)"
   ]
  },
  {
   "cell_type": "code",
   "execution_count": 41,
   "metadata": {},
   "outputs": [
    {
     "data": {
      "text/plain": [
       "[Document(metadata={'source': 'mycv.pdf', 'page': 0}, page_content='Shrikrushna Gundre\\n/gl⌢beshricastic.in ♂¶obile7378484905 /envel⌢peshricse07@gmail.com /linkedinshricastic /githubshricastic /codeleetcode\\nEducation\\nKolhapur Institutet of Technology 2021 - 2024\\nB.tech in Computer Science and Engineering (GPA:7.9) Kolhapur, Maharashtra\\nTechnical Skills\\nLanguages: C++, TypeScript, Python, JavaScript, Rust, Java, Solidity, Html, Css\\nTechnologies/Frameworks: NextJs, React, Express, NodeJs, FastApi, Recoil, Tailwind CSS, Prisma(ORM)\\nDatabases: MongoDB, PostgreSQL, MySQL, Redis\\nOther Skills: AWS, GCP, Docker, Git, Linux, Bash Shell, Blockchain, Postman, Serverless\\nExperience\\nTecell Oct 2024 – Present\\nSoftware Engineer - Intern Bengaluru, Karnataka\\n• Focusing on Node and cloud application integration to develop software that connects and manages EV charging\\nstations.\\n• Contributing to projects aimed at enhancing system performance and scalability within the EV infrastructure.\\nSuperAdept It Consultants Mar 2024 – June 2024\\nSoftware Engineer - Intern Bengaluru, Karnataka\\n• Developed and deployed a personalized applications using React, AWS Amplify, Vercel and the MERN stack.\\n• Collaborated on microservices architecture and optimized code for scalability and performance.\\nProjects\\nNext Portfolio| TypeScript, NextJS, React, Tailwind, Framer Motions, Aceternity Sept 2024\\n• Developed a responsive portfolio website using Next.js and TypeScript, showcasing projects and skills with a focus on\\nmodern web standards.\\n• Implemented animations using Aceternity, Framer Motion for enhanced user interaction.\\nPayTm - Community Payments| JavaScript, React, Tailwind, Express, MongoDB July 2024\\n• Developed a community payments platform using JavaScript and React, enhancing user engagement and transaction\\nefficiency.\\n• Implemented backend services with Express and MongoDB, adhering to atomicity standards for secure and reliable\\ntransaction processing.\\n• Created a responsive UI with Tailwind CSS, ensuring a seamless experience across devices.\\nBlockCertify | React, Truffle, Express, Ganache, MongoDB June 2024\\n• Pioneered a blockchain application for generating, storing, and verifying certificates.\\n• Developed a fully functional full stack application to integrate with blockchain to store and validate the certificate\\n• Deployed and incorporated in college cultural club events for robust paticipation certificate generation and distribution.\\nJobMatcher AI| Python, LLM Gemini, PyPDF, Streamlit July 2024\\n• Developed an AI-powered ATS tool using Streamlit and Google Generative AI LLM to evaluate resumes against job\\ndescriptions.\\n• Extracted text from PDF resumes using PyPDF2, enabling seamless integration of uploaded documents for analysis.\\n• Implemented natural language processing to assess resume-job description matching and Gen ai to identify missing\\nkeywords, enhancing candidate shortlisting chances.\\nACHIEVEMENTS\\n• Solved 500+ Data Structures & Algorithm problemson coding platforms like Leetcode and Codeforces. etc.\\n• Honored as one of only 60distinguished scholars in the district, receiving a fully funded scholarship for high\\nschool education.\\n• Championship winnerin District level Inter College Chess Competition.')]"
      ]
     },
     "execution_count": 41,
     "metadata": {},
     "output_type": "execute_result"
    }
   ],
   "source": [
    "retriever = vectorstore.as_retriever()\n",
    "\n",
    "retriever.invoke(\"Shrikrushna\")"
   ]
  },
  {
   "cell_type": "code",
   "execution_count": 42,
   "metadata": {},
   "outputs": [
    {
     "data": {
      "text/plain": [
       "\"I don't know the answer to that question as there is no clear identification of who Shrikrushna is in the provided context.\""
      ]
     },
     "execution_count": 42,
     "metadata": {},
     "output_type": "execute_result"
    }
   ],
   "source": [
    "from operator import itemgetter\n",
    "\n",
    "chain = (\n",
    "    {\n",
    "        \"context\": itemgetter(\"question\") | retriever, \"question\":  itemgetter(\"question\")\n",
    "    } \n",
    "    | prompt \n",
    "    | model\n",
    ")\n",
    "\n",
    "chain.invoke({\"question\": \"Who is shrikrushna?\"})"
   ]
  },
  {
   "cell_type": "code",
   "execution_count": 43,
   "metadata": {},
   "outputs": [
    {
     "name": "stdout",
     "output_type": "stream",
     "text": [
      "Question: Whats the name of guy in mycv?\n",
      "Answer: I don't know the answer to that question as the context provided does not mention the name of the person in mycv. The context only provides information about Shrikrushna Gundre's education, technical skills, experience, and projects he has worked on.\n",
      "Question: What are the projects Shrikrushna made?\n",
      "Answer: Based on the provided resume content, Shrikrushna has worked on the following projects:\n",
      "\n",
      "1. Next Portfolio: Developed a responsive portfolio website using Next.js and TypeScript, showcasing projects and skills with a focus on modern web standards. Implemented animations using Aceternity and Framer Motion for enhanced user interaction.\n",
      "2. PayTm - Community Payments: Developed a community payments platform using JavaScript and React, enhancing user engagement and transaction efficiency. Implemented backend services with Express and MongoDB, adhering to atomicity standards for secure and reliable transaction processing. Created a responsive UI with Tailwind CSS, ensuring a seamless experience across devices.\n",
      "3. BlockCertify: Pioneered a blockchain application for generating, storing, and verifying certificates. Developed a fully functional full stack application to integrate with blockchain to store and validate the certificate. Deployed and incorporated in college cultural club events for robust participation certificate generation and distribution.\n",
      "4. JobMatcher AI: Developed an AI-powered ATS tool using Streamlit and Google Generative AI LLM to evaluate resumes against job descriptions. Extracted text from PDF resumes using PyPDF2, enabling seamless integration of uploaded documents for analysis. Implemented natural language processing to assess resume-job description matching and Gen ai to identify missing keywords, enhancing candidate shortlisting chances.\n",
      "Question: give a brief about Shrikrushna'a educational background?\n",
      "Answer: Sure! Based on the provided context, here is a brief summary of Shrikrushna's educational background:\n",
      "\n",
      "Shrikrushna completed his B.Tech in Computer Science and Engineering from Kolhapur Institute of Technology in 2024. He graduated with a GPA of 7.9.\n",
      "Question: What are his technical skills?\n",
      "Answer: Based on the information provided in the context, Shrikrushna Gundre's technical skills include:\n",
      "\n",
      "1. Programming languages: C++, TypeScript, Python, JavaScript, Rust, Java, Solidity, and HTML.\n",
      "2. Technologies/Frameworks: NextJs, React, Express, NodeJs, FastApi, Recoil, Tailwind CSS, Prisma (ORM).\n",
      "3. Databases: MongoDB, PostgreSQL, MySQL, Redis.\n",
      "4. Other skills: AWS, GCP, Docker, Git, Linux, Bash Shell, Blockchain, Postman, Serverless.\n"
     ]
    }
   ],
   "source": [
    "questions = [\n",
    "    \"Whats the name of guy in mycv?\",\n",
    "    \"What are the projects Shrikrushna made?\",\n",
    "    \"give a brief about Shrikrushna'a educational background?\",\n",
    "    \"What are his technical skills?\"\n",
    "]\n",
    "\n",
    "for question in questions:\n",
    "    print(f\"Question: {question}\")\n",
    "    print(f\"Answer: {chain.invoke({'question': question})}\")\n"
   ]
  }
 ],
 "metadata": {
  "kernelspec": {
   "display_name": "venv",
   "language": "python",
   "name": "python3"
  },
  "language_info": {
   "codemirror_mode": {
    "name": "ipython",
    "version": 3
   },
   "file_extension": ".py",
   "mimetype": "text/x-python",
   "name": "python",
   "nbconvert_exporter": "python",
   "pygments_lexer": "ipython3",
   "version": "3.12.3"
  }
 },
 "nbformat": 4,
 "nbformat_minor": 2
}
